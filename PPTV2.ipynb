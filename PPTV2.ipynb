{
 "cells": [
  {
   "cell_type": "code",
   "execution_count": 3,
   "metadata": {},
   "outputs": [],
   "source": [
    "import random\n",
    "\n",
    "def jugarjuegov2():\n",
    "    puntos_finales = 3\n",
    "    puntos_jugador1 = 0\n",
    "    puntos_ordenador = 0\n",
    "    reglas = {'piedra': 'tijera', 'tijera': 'papel', 'papel': 'piedra', 'lagarto': 'spock', 'spock': 'tijera','piedra': 'lagarto',\n",
    "              'lagarto': 'papel', 'spock': 'piedra', 'tijera': 'lagarto', 'papel': 'spock'}\n",
    "    \n",
    "    while puntos_ordenador < puntos_finales and puntos_jugador1 < puntos_finales:\n",
    "            print(f\"Puntuación -> Jugador: {puntos_jugador1} | Ordenador: {puntos_ordenador}\")\n",
    "            while True: \n",
    "                eleccion_jugador = input('Haz tu elección: Piedra, Papel, Tijera, Lagarto o Spock: ').lower()\n",
    "                if eleccion_jugador in reglas:\n",
    "                    break\n",
    "                else: \n",
    "                    print('La elección no es correcta, vuelve a elegir')\n",
    "    \n",
    "            eleccion_ordenador = random.choice(list(reglas.keys()))\n",
    "    \n",
    "            print(f\"El jugador ha elegido: {eleccion_jugador}\")\n",
    "            print(f\"El ordenador ha elegido: {eleccion_ordenador}\")\n",
    "\n",
    "            if eleccion_jugador == eleccion_ordenador:\n",
    "                print('¡Vaya! ¡Un empate! Intentemos otra vez.')\n",
    "            elif reglas[eleccion_jugador] == eleccion_ordenador:\n",
    "                print(f'¡Enhorabuena! Tu {eleccion_jugador} ha vencido al {eleccion_ordenador} del ordenador.¡Eres imparable!')\n",
    "                puntos_jugador1 += 1\n",
    "            else:\n",
    "                puntos_ordenador += 1\n",
    "                print(f'¡Oooooh! Tu {eleccion_jugador} ha sido vencido por el {eleccion_ordenador} del ordenador. Al menos lo intentaste. :(')\n",
    "\n",
    "    if puntos_jugador1 == puntos_finales:\n",
    "        print('¡Felicidades, has ganado el juego! ¡Eres más épica que la siesta de los domingos!')\n",
    "        print(f\"Puntuación -> Jugador: {puntos_jugador1} | Ordenador: {puntos_ordenador}\")\n",
    "    else:\n",
    "        print('Oye, perder también es un talento, y claramente lo dominas... FIN DEL JUEGO')\n",
    "        print(f\"Puntuación -> Jugador: {puntos_jugador1} | Ordenador: {puntos_ordenador}\")"
   ]
  },
  {
   "cell_type": "code",
   "execution_count": 5,
   "metadata": {},
   "outputs": [
    {
     "name": "stdout",
     "output_type": "stream",
     "text": [
      "Puntuación -> Jugador: 0 | Ordenador: 0\n",
      "El jugador ha elegido: piedra\n",
      "El ordenador ha elegido: piedra\n",
      "¡Vaya! ¡Un empate! Intentemos otra vez.\n",
      "Puntuación -> Jugador: 0 | Ordenador: 0\n",
      "El jugador ha elegido: tijera\n",
      "El ordenador ha elegido: tijera\n",
      "¡Vaya! ¡Un empate! Intentemos otra vez.\n",
      "Puntuación -> Jugador: 0 | Ordenador: 0\n",
      "La elección no es correcta, vuelve a elegir\n"
     ]
    }
   ],
   "source": [
    "jugarjuegov2()"
   ]
  }
 ],
 "metadata": {
  "kernelspec": {
   "display_name": "base",
   "language": "python",
   "name": "python3"
  },
  "language_info": {
   "codemirror_mode": {
    "name": "ipython",
    "version": 3
   },
   "file_extension": ".py",
   "mimetype": "text/x-python",
   "name": "python",
   "nbconvert_exporter": "python",
   "pygments_lexer": "ipython3",
   "version": "3.12.4"
  }
 },
 "nbformat": 4,
 "nbformat_minor": 2
}
